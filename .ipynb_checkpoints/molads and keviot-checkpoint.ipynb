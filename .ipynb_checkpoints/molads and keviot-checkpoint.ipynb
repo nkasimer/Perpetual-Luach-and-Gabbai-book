{
 "cells": [
  {
   "cell_type": "markdown",
   "metadata": {},
   "source": [
    "# Calculates a year in the Jewish calendar"
   ]
  },
  {
   "cell_type": "code",
   "execution_count": 24,
   "metadata": {},
   "outputs": [
    {
     "name": "stdout",
     "output_type": "stream",
     "text": [
      "Requirement already satisfied: zmanim in c:\\users\\nkasimer\\anaconda3\\lib\\site-packages (0.3.1)\n",
      "Requirement already satisfied: julian in c:\\users\\nkasimer\\anaconda3\\lib\\site-packages (from zmanim) (0.14)\n",
      "Requirement already satisfied: memoization in c:\\users\\nkasimer\\anaconda3\\lib\\site-packages (from zmanim) (0.3.2)\n",
      "Requirement already satisfied: python-dateutil in c:\\users\\nkasimer\\anaconda3\\lib\\site-packages (from zmanim) (2.8.0)\n",
      "Requirement already satisfied: six>=1.5 in c:\\users\\nkasimer\\anaconda3\\lib\\site-packages (from python-dateutil->zmanim) (1.12.0)\n"
     ]
    }
   ],
   "source": [
    "import sys\n",
    "!{sys.executable} -m pip install zmanim"
   ]
  },
  {
   "cell_type": "code",
   "execution_count": 1,
   "metadata": {},
   "outputs": [],
   "source": [
    "#defines functions to do math with molads"
   ]
  },
  {
   "cell_type": "code",
   "execution_count": 1,
   "metadata": {},
   "outputs": [],
   "source": [
    "def mol_remainder_remover(mol):\n",
    "    while mol[2]>=1080:\n",
    "        mol[2]=mol[2]-1080\n",
    "        mol[1]=mol[1]+1\n",
    "    while mol[1]>=24:\n",
    "        mol[1]=mol[1]-24\n",
    "        mol[0]=mol[0]+1\n",
    "    while mol[0]>7:\n",
    "        mol[0]=mol[0]-7\n",
    "    return mol\n",
    "\n",
    "def mult_mol(mult,mol):\n",
    "    mol_mult = [mol[0]*mult,mol[1]*mult,mol[2]*mult]\n",
    "    return mol_remainder_remover(mol_mult)\n",
    "\n",
    "def add_mol(mol1,mol2):\n",
    "    mol_summed = [mol1[0]+mol2[0],mol1[1]+mol2[1],mol1[2]+mol2[2]]\n",
    "    return mol_remainder_remover(mol_summed)"
   ]
  },
  {
   "cell_type": "code",
   "execution_count": 2,
   "metadata": {},
   "outputs": [],
   "source": [
    "#defines basic data"
   ]
  },
  {
   "cell_type": "code",
   "execution_count": 3,
   "metadata": {},
   "outputs": [],
   "source": [
    "baharad = [2,5,204]  #ב־ה־ר״ד\n",
    "monthly_molad = [1,12,793] #א־יב־תשצ״ג\n",
    "leap_years = [3,6,8,11,14,17,0] #גוחאדז״ט\n",
    "count_leap = len(leap_years)\n",
    "machzor_len = 19\n",
    "count_peshuta = machzor_len - count_leap\n",
    "months_in_machzor = (len(leap_years)*13)+((19-len(leap_years))*12)\n",
    "yrp_remain = mult_mol(12,monthly_molad) #ד־ח־תת״ו\n",
    "yrm_remain = mult_mol(13,monthly_molad) #ה־כא־תקפ״ט\n",
    "yr_remain = [yrp_remain, yrm_remain]\n",
    "machzor_remain = add_mol(mult_mol(count_leap,yrm_remain),mult_mol(count_peshuta,yrp_remain)) #ב־יו־תקצ״ה"
   ]
  },
  {
   "cell_type": "code",
   "execution_count": 4,
   "metadata": {},
   "outputs": [],
   "source": [
    "daysorder = ['א','ב','ג','ד','ה','ו','ז']\n",
    "daynames = ['Sunday','Monday','Tuesday','Wednesday','Thursday','Friday','Saturday']"
   ]
  },
  {
   "cell_type": "code",
   "execution_count": 5,
   "metadata": {},
   "outputs": [
    {
     "data": {
      "text/plain": [
       "'א'"
      ]
     },
     "execution_count": 5,
     "metadata": {},
     "output_type": "execute_result"
    }
   ],
   "source": [
    "daysorder[0]"
   ]
  },
  {
   "cell_type": "code",
   "execution_count": 6,
   "metadata": {},
   "outputs": [],
   "source": [
    "months_p1 = ['Tishrei',r'Mar\\d{h}eshvan','Kislev','Tevet','Shevat','Adar','Nisan','Iyyar','Sivan','Tammuz','Av','Elul']\n",
    "months_p2 = ['תשרי','מרחשון','כסלו','טבת','שבט','אדר','ניסן','אייר','סיון','תמוז','אב','אלול']\n",
    "months_m1 = ['Tishrei',r'Mar\\d{h}eshvan','Kislev','Tevet','Shevat','Adar I','Adar II','Nisan','Iyyar','Sivan','Tammuz','Av','Elul']\n",
    "months_m2 = ['תשרי','מרחשון','כסלו','טבת','שבט','אדר א׳','אדר ב׳','ניסן','אייר','סיון','תמוז','אב','אלול']\n",
    "months1 = months_p1,months_m1\n",
    "months2 = months_p2,months_m2\n",
    "months_hebcal = ['Tishrei', 'Cheshvan', 'Kislev', 'Tevet', 'Shvat', 'Adar1', 'Adar2', 'Nisan', 'Iyyar', 'Sivan', 'Tamuz', 'Av', 'Elul']\n"
   ]
  },
  {
   "cell_type": "code",
   "execution_count": 7,
   "metadata": {},
   "outputs": [],
   "source": [
    "def leap_checker(year):\n",
    "    if year%19 in leap_years:\n",
    "        return 1\n",
    "    else:\n",
    "        return 0"
   ]
  },
  {
   "cell_type": "code",
   "execution_count": 8,
   "metadata": {},
   "outputs": [],
   "source": [
    "def year_position(yr):\n",
    "    leap = leap_checker(yr)\n",
    "    if yr-1 in leap_years:\n",
    "        motzaei = 1\n",
    "        erev = 0\n",
    "    elif yr+1 in leap_years:\n",
    "        erev = 1\n",
    "        motzaei = 0\n",
    "    else:\n",
    "        erev = 0\n",
    "        motzaei = 0\n",
    "    return motzaei, leap, erev"
   ]
  },
  {
   "cell_type": "code",
   "execution_count": 9,
   "metadata": {},
   "outputs": [],
   "source": [
    "#Calculates info for given year"
   ]
  },
  {
   "cell_type": "code",
   "execution_count": 10,
   "metadata": {},
   "outputs": [],
   "source": [
    "def tishrei_molad(year):\n",
    "    machzor=((year-1)//19)+1\n",
    "    yr_in_machzor = ((year-1)%19)+1\n",
    "    leap = leap_checker(yr_in_machzor)\n",
    "    i=1\n",
    "    q_reg_machzor = 0\n",
    "    q_leap_machzor = 0\n",
    "    while i<yr_in_machzor:\n",
    "        if i in leap_years:\n",
    "            q_leap_machzor += 1\n",
    "        else:\n",
    "            q_reg_machzor += 1\n",
    "        i+=1\n",
    "    molsum = [baharad, mult_mol(machzor-1,machzor_remain),mult_mol(q_reg_machzor,yrp_remain),mult_mol(q_leap_machzor,yrm_remain)]\n",
    "    molad_start = [sum(x) for x in zip(*molsum)]\n",
    "    molad_start = mol_remainder_remover(molad_start)\n",
    "    return molad_start,yr_in_machzor"
   ]
  },
  {
   "cell_type": "code",
   "execution_count": 11,
   "metadata": {},
   "outputs": [],
   "source": [
    "def next_molad(molad,yr):\n",
    "    leap = leap_checker(yr)\n",
    "    new_mol = [x + y for x, y in zip(molad, yr_remain[leap])]\n",
    "    return new_mol"
   ]
  },
  {
   "cell_type": "code",
   "execution_count": 12,
   "metadata": {},
   "outputs": [],
   "source": [
    "def RH_calc(molad,yr):\n",
    "    RH1 = molad[0]\n",
    "    yr_rel = year_position(yr)\n",
    "    #pushes off for Molad Zaken\n",
    "    if molad[1]>=18:\n",
    "        RH1 += 1\n",
    "    \n",
    "    #pushes off lo ADU\n",
    "    adu = [1,4,6]\n",
    "    if RH1 in adu:\n",
    "        RH1 += 1\n",
    "    #prevents a 356-day year by delaying a day\n",
    "    #applies on moatzaei meuberet when molad is on Tues after 9-204\n",
    "    #dechiya of ג־ט־ר״ד\n",
    "    elif yr_rel[1] == 0 and molad[0]==3 and (molad[1]>9 or (molad[1]==9 and molad[2]>=204)):\n",
    "        RH1 = 5\n",
    "    #prevents a 383 day year in the previous year by pushing later a day\n",
    "    #applies in leap year when molad is on Mon after 15-589\n",
    "    #dechiya of בטותקפ״ד\n",
    "    elif yr_rel[0] == 1 and molad[0]==2 and (molad[1]>15 or (molad[1]==15 and molad[2]>=589)):\n",
    "        RH1 = 3\n",
    "        \n",
    "    RH1 = ((RH1-1)%7)+1\n",
    "    return RH1"
   ]
  },
  {
   "cell_type": "code",
   "execution_count": 13,
   "metadata": {},
   "outputs": [],
   "source": [
    "#display functions\n",
    "def print_molad(month,molad,leap):\n",
    "#     print('The Molad of',months1[leap][month],'will be at',molad[0],'days,',molad[1],'hours, and',molad[2],'chalakim')\n",
    "    print(\"%\",months1[leap][month])\n",
    "    print(molad[0],\"-\",molad[1],\"-\",molad[2])\n",
    "    \n",
    "def print_RCh(month,day1,days,leap):\n",
    "    if days == 2 and day1 == 6:\n",
    "        print('Rosh Chodesh',months1[leap][month],'will occur on',daynames[day1],'and the following',daynames[(day1+1)%7])\n",
    "    elif days == 2:\n",
    "        print('Rosh Chodesh',months1[leap][month],'will occur on',daynames[day1],'and',daynames[day1+1])\n",
    "    else:\n",
    "        print('Rosh Chodesh',months1[leap][month],'will occur on',daynames[day1])"
   ]
  },
  {
   "cell_type": "code",
   "execution_count": 14,
   "metadata": {},
   "outputs": [],
   "source": [
    "def inc_date(date,inc):\n",
    "    #only works within a month\n",
    "    date[1] = date[1] + inc\n",
    "    date[2] = date[2] + inc\n",
    "    date[2] = (date[2]-1)%7+1\n",
    "    return date"
   ]
  },
  {
   "cell_type": "code",
   "execution_count": 15,
   "metadata": {},
   "outputs": [],
   "source": [
    "def new_month(month_len,leap,date,last_RCh,molads):\n",
    "    RCh_len = month_len[leap][date[0]-1]-28\n",
    "    RCh_day = inc_date(last_RCh,29)[2]\n",
    "    date = inc_date(last_RCh,month_len[leap][date[0]])\n",
    "    \n",
    "    print_RCh(date[0],RCh_day,RCh_len,leap)\n",
    "    print_molad(date[0],molads[date[0]],leap)"
   ]
  },
  {
   "cell_type": "code",
   "execution_count": 16,
   "metadata": {},
   "outputs": [],
   "source": [
    "def daysinyear(year,RH1,RH2):\n",
    "    if RH1>RH2:\n",
    "        RH_int = RH2+7-RH1\n",
    "    else:\n",
    "        RH_int = RH2-RH1\n",
    "    #days in year\n",
    "    leap = leap_checker(year)\n",
    "    if leap == 0:\n",
    "        days = 353\n",
    "    elif leap == 1:\n",
    "        days = 383\n",
    "    offset = days%7\n",
    "    excess = 0\n",
    "    while offset != RH_int:\n",
    "        days += 1\n",
    "        offset = days%7\n",
    "        excess += 1\n",
    "    return days,excess"
   ]
  },
  {
   "cell_type": "code",
   "execution_count": 17,
   "metadata": {},
   "outputs": [],
   "source": [
    "def gregdate(year,month,day):\n",
    "    months_hebcal = ['Tishrei', 'Cheshvan', 'Kislev', 'Tevet', 'Shvat', 'Adar1', 'Adar2', 'Nisan', 'Iyyar', 'Sivan', 'Tamuz', 'Av', 'Elul']\n",
    "    leap = leap_checker(year)\n",
    "    if leap == 0 and month > 6:\n",
    "        month_ = months_hebcal[month]\n",
    "    else:\n",
    "        month_ = months_hebcal[month-1]\n",
    "    import urllib.request, json, datetime\n",
    "    with urllib.request.urlopen(\"https://www.hebcal.com/converter?cfg=json&hy=\"+str(year)+\"&hm=\"+str(month_)+\"&hd=\"+str(day)+\"&h2g=1\") as url:\n",
    "        data = json.loads(url.read().decode())\n",
    "        #print(data)\n",
    "    greg_date = datetime.date(data['gy'],data['gm'],data['gd'])\n",
    "    print(greg_date)"
   ]
  },
  {
   "cell_type": "code",
   "execution_count": 18,
   "metadata": {},
   "outputs": [],
   "source": [
    "def get_kevia(year):\n",
    "    year_info = tishrei_molad(year)\n",
    "    year_molad = year_info[0]\n",
    "    year_in_machzor = year_info[1]\n",
    "    RH1 = RH_calc(*year_info)\n",
    "    next_year_info = tishrei_molad(year+1)\n",
    "    RH2 = RH_calc(*next_year_info)\n",
    "    leap = leap_checker(year)\n",
    "    excess = daysinyear(year,RH1,RH2)[1]\n",
    "    \n",
    "    if excess == 0:\n",
    "        yr_type = '0'\n",
    "        yr_type2 = 'ח'\n",
    "    elif excess == 1:\n",
    "        yr_type = '1'\n",
    "        yr_type2 = 'כ'\n",
    "    elif excess == 2:\n",
    "        yr_type = '2'\n",
    "        yr_type2 = 'ש'\n",
    "        \n",
    "    if excess == 0:\n",
    "        chesh_len = 29\n",
    "        kis_len = 29\n",
    "    elif excess == 1:\n",
    "        chesh_len = 29\n",
    "        kis_len = 30\n",
    "    elif excess == 2:\n",
    "        chesh_len = 30\n",
    "        kis_len = 30\n",
    "    month_lengths_p = [30,chesh_len,kis_len,29,30,29,30,29,30,29,30,29]\n",
    "    month_lengths_m = [30,chesh_len,kis_len,29,30,30,29,30,29,30,29,30,29]\n",
    "    month_len = [month_lengths_p,month_lengths_m]\n",
    "    pesach_day = RH2-2\n",
    "    if pesach_day < 1:\n",
    "        pesach_day = pesach_day + 7\n",
    "    yrcode1 = str(RH1)+yr_type+str(pesach_day)\n",
    "    yrcode2 = daysorder[RH1-1]+yr_type2+'״'+daysorder[pesach_day-1]\n",
    "    return [yrcode1,yrcode2]"
   ]
  },
  {
   "cell_type": "code",
   "execution_count": 19,
   "metadata": {},
   "outputs": [],
   "source": [
    "def run_year(year,mode):\n",
    "    leap = leap_checker(year)\n",
    "    year_info = tishrei_molad(year)\n",
    "    [yrcode1,yrcode2] = get_kevia(year)\n",
    "    #print basic calendar info--the year and the year-type\n",
    "#     if leap==0:\n",
    "#         leap_print = 'Shana Peshuta (non-leap year)'\n",
    "#     else:\n",
    "#         leap_print = 'Shana Meubberet (leap year)'\n",
    "    \n",
    "    #calculates molads for the year\n",
    "    molads = [year_info[0]]\n",
    "    month = 1\n",
    "    months = 12+leap\n",
    "    while month<months:\n",
    "        molads.append(add_mol(molads[month-1],monthly_molad))\n",
    "        month += 1\n",
    "    \n",
    "    #THIS IS FOR KEVIOT TABLE\n",
    "    if mode == 1:\n",
    "        yearprint = yrcode1\n",
    "        if leap == 1:\n",
    "            yearprint = r\"\\textit{\"+yearprint+\"}\"\n",
    "        if year % 7 == 0:\n",
    "            yearprint = r\"\\textbf{\"+yearprint+\"}\"\n",
    "        if year % 10 == 0:\n",
    "            print(r\"\\\\\\hline\")\n",
    "            print(year,\"&\",yearprint)\n",
    "        else:\n",
    "            print(\"&\",yearprint)\n",
    "\n",
    "    date = [1,1,yrcode1[0]]\n",
    "    RH_date = date\n",
    "  \n",
    "    if mode == 2:\n",
    "        month_molad = []\n",
    "        month_molad.append(year_molad)\n",
    "        print(\"\\multirow{2}{*}{\"+str(year)+\"}\")\n",
    "        print(\"&\",year_molad[0],\"-\",year_molad[1],\"-\",year_molad[2])\n",
    "        month_counter = 1\n",
    "        for i in range(1,len(months1[leap])):\n",
    "\n",
    "            new_molad = add_mol(month_molad[i-1],monthly_molad)\n",
    "            month_molad.append(new_molad)\n",
    "            print(\"&\")\n",
    "            print_molad(i,month_molad[i],leap)\n",
    "            month_counter += 1\n",
    "            if leap == 0 and month_counter == 6:\n",
    "                print(r\"&\\space\\\\* \\space\")\n",
    "            if leap == 1 and month_counter == 7:\n",
    "                print(r\"\\\\* \\space\")\n",
    "        print(r\"&\\space\\\\\\hline\")"
   ]
  },
  {
   "cell_type": "code",
   "execution_count": 22,
   "metadata": {},
   "outputs": [
    {
     "name": "stdout",
     "output_type": "stream",
     "text": [
      "& \\textit{703}\n"
     ]
    }
   ],
   "source": [
    "#mode = 1 for keviot\n",
    "# mode = 2 for molads\n",
    "year = 5784\n",
    "run_year(year,1)"
   ]
  },
  {
   "cell_type": "code",
   "execution_count": 20,
   "metadata": {},
   "outputs": [],
   "source": [
    "# year = 5780\n",
    "# while year < 6000:\n",
    "#     run_year(year,1)\n",
    "#     year += 1"
   ]
  },
  {
   "cell_type": "code",
   "execution_count": 21,
   "metadata": {},
   "outputs": [],
   "source": [
    "#now table with gregorian dates"
   ]
  },
  {
   "cell_type": "code",
   "execution_count": 35,
   "metadata": {},
   "outputs": [],
   "source": [
    "from zmanim.zmanim_calendar import ZmanimCalendar\n",
    "from zmanim.astronomical_calendar import AstronomicalCalendar\n",
    "from zmanim.hebrew_calendar.jewish_calendar import JewishCalendar\n",
    "from zmanim.util.geo_location import GeoLocation\n",
    "from zmanim.hebrew_calendar.jewish_date import JewishDate\n",
    "import urllib.request, json, datetime, time, pytz\n",
    "import datetime"
   ]
  },
  {
   "cell_type": "code",
   "execution_count": 23,
   "metadata": {},
   "outputs": [],
   "source": [
    "#https://www.hebcal.com/hebcal?v=1&cfg=json&maj=on&min=off&mod=off&nx=off&yt=H&year=5785&month=x&ss=off&mf=on&c=on&geo=off&M=on&s=off&leyning=off\n"
   ]
  },
  {
   "cell_type": "code",
   "execution_count": 44,
   "metadata": {},
   "outputs": [],
   "source": [
    "def year_data(year):\n",
    "    holidays = [\"Rosh Hashana\",\"Yom Kippur\",\"Sukkot I\",\"Chanukah: 2 Candles\",\"Asara B'Tevet\",\"Purim\",\"Pesach I\",\"Shavuot I\",\"Tzom Tammuz\",\"Tish'a B'Av\"]\n",
    "    kevia = get_kevia(year)[0]\n",
    "    gregyear1 = year-3761\n",
    "    gregyear2 = year-3760\n",
    "    yearinfo = [str(year),str(gregyear1),str(gregyear2),kevia]\n",
    "    hebcallink = \"https://www.hebcal.com/hebcal?v=1&cfg=json&maj=on&min=off&mod=off&nx=off&yt=H&year=\"+str(year)+\"&month=x&ss=off&mf=on&c=on&geo=off&M=on&s=off&leyning=off\"\n",
    "    with urllib.request.urlopen(hebcallink) as url:\n",
    "        holiday_info = json.loads(url.read().decode())\n",
    "    for entry in holiday_info[\"items\"]:\n",
    "        name = entry[\"title\"]\n",
    "        if \"Erev\" not in name and \"II\" not in name:\n",
    "            for holiday in holidays:\n",
    "                if holiday in name:\n",
    "                    yearinfo.append(datetime.datetime.strptime(entry[\"date\"],\"%Y-%m-%d\"))\n",
    "    return yearinfo"
   ]
  },
  {
   "cell_type": "code",
   "execution_count": 46,
   "metadata": {},
   "outputs": [
    {
     "data": {
      "text/plain": [
       "['5785',\n",
       " '2024',\n",
       " '2025',\n",
       " '521',\n",
       " datetime.datetime(2024, 10, 3, 0, 0),\n",
       " datetime.datetime(2024, 10, 12, 0, 0),\n",
       " datetime.datetime(2024, 10, 17, 0, 0),\n",
       " datetime.datetime(2024, 10, 20, 0, 0),\n",
       " datetime.datetime(2024, 12, 26, 0, 0),\n",
       " datetime.datetime(2025, 1, 10, 0, 0),\n",
       " datetime.datetime(2025, 3, 14, 0, 0),\n",
       " datetime.datetime(2025, 4, 13, 0, 0),\n",
       " datetime.datetime(2025, 4, 16, 0, 0),\n",
       " datetime.datetime(2025, 6, 2, 0, 0),\n",
       " datetime.datetime(2025, 7, 13, 0, 0),\n",
       " datetime.datetime(2025, 8, 3, 0, 0)]"
      ]
     },
     "execution_count": 46,
     "metadata": {},
     "output_type": "execute_result"
    }
   ],
   "source": [
    "year_data(5785)"
   ]
  },
  {
   "cell_type": "code",
   "execution_count": 41,
   "metadata": {},
   "outputs": [],
   "source": [
    "def year_range(start_yr,number):\n",
    "    year_table = []\n",
    "    for year in range(start_yr,start_yr+number):\n",
    "        year_table.append(year_data(year))\n",
    "    return year_table"
   ]
  },
  {
   "cell_type": "code",
   "execution_count": 51,
   "metadata": {},
   "outputs": [],
   "source": [
    "def make_table(start_yr,number):\n",
    "    data = year_range(start_yr,number)\n",
    "    output = []\n",
    "    titles = [\"Year:\",\"CE yr start\",\"CE yr end\",\"Kevi`a\",\"Rosh Hashana\",\"Yom Kippur\",\"Sukkot\",r\"\\d{H}anukka\",\"10th of Tevet\",\"Purim\",\"Pesa\\d{h}\"]\n",
    "    for i in range(0,len(titles)):\n",
    "        line = titles[i]\n",
    "        for j in range(0,number-1):\n",
    "            item = data[j][i]\n",
    "            if type(item)==str:\n",
    "                line += \"&\"+str(item)\n",
    "            else:\n",
    "                line += \"&\" + data[j][i].strftime(\"%a %m-%d\")\n",
    "        line += r\"\\\\\\hline\"\n",
    "        output.append(line)\n",
    "    return output"
   ]
  },
  {
   "cell_type": "code",
   "execution_count": 53,
   "metadata": {},
   "outputs": [
    {
     "name": "stdout",
     "output_type": "stream",
     "text": [
      "5784\n",
      "5785\n",
      "5786\n",
      "5787\n",
      "5788\n",
      "5789\n",
      "5790\n",
      "5791\n",
      "5792\n",
      "2023\n",
      "2024\n",
      "2025\n",
      "2026\n",
      "2027\n",
      "2028\n",
      "2029\n",
      "2030\n",
      "2031\n",
      "2024\n",
      "2025\n",
      "2026\n",
      "2027\n",
      "2028\n",
      "2029\n",
      "2030\n",
      "2031\n",
      "2032\n",
      "703\n",
      "521\n",
      "315\n",
      "725\n",
      "723\n",
      "506\n",
      "115\n",
      "723\n",
      "517\n",
      "2023-09-16 00:00:00\n",
      "2024-10-03 00:00:00\n",
      "2025-09-23 00:00:00\n",
      "2026-09-12 00:00:00\n",
      "2027-10-02 00:00:00\n",
      "2028-09-21 00:00:00\n",
      "2029-09-10 00:00:00\n",
      "2030-09-28 00:00:00\n",
      "2031-09-18 00:00:00\n",
      "2023-09-25 00:00:00\n",
      "2024-10-12 00:00:00\n",
      "2025-10-02 00:00:00\n",
      "2026-09-21 00:00:00\n",
      "2027-10-11 00:00:00\n",
      "2028-09-30 00:00:00\n",
      "2029-09-19 00:00:00\n",
      "2030-10-07 00:00:00\n",
      "2031-09-27 00:00:00\n",
      "2023-09-30 00:00:00\n",
      "2024-10-17 00:00:00\n",
      "2025-10-07 00:00:00\n",
      "2026-09-26 00:00:00\n",
      "2027-10-16 00:00:00\n",
      "2028-10-05 00:00:00\n",
      "2029-09-24 00:00:00\n",
      "2030-10-12 00:00:00\n",
      "2031-10-02 00:00:00\n",
      "2023-10-03 00:00:00\n",
      "2024-10-20 00:00:00\n",
      "2025-10-10 00:00:00\n",
      "2026-09-29 00:00:00\n",
      "2027-10-19 00:00:00\n",
      "2028-10-08 00:00:00\n",
      "2029-09-27 00:00:00\n",
      "2030-10-15 00:00:00\n",
      "2031-10-05 00:00:00\n",
      "2023-12-08 00:00:00\n",
      "2024-12-26 00:00:00\n",
      "2025-12-15 00:00:00\n",
      "2026-12-05 00:00:00\n",
      "2027-12-25 00:00:00\n",
      "2028-12-13 00:00:00\n",
      "2029-12-02 00:00:00\n",
      "2030-12-21 00:00:00\n",
      "2031-12-10 00:00:00\n",
      "2023-12-22 00:00:00\n",
      "2025-01-10 00:00:00\n",
      "2025-12-30 00:00:00\n",
      "2026-12-20 00:00:00\n",
      "2028-01-09 00:00:00\n",
      "2028-12-28 00:00:00\n",
      "2029-12-16 00:00:00\n",
      "2031-01-05 00:00:00\n",
      "2031-12-25 00:00:00\n",
      "2024-03-24 00:00:00\n",
      "2025-03-14 00:00:00\n",
      "2026-03-03 00:00:00\n",
      "2027-03-23 00:00:00\n",
      "2028-03-12 00:00:00\n",
      "2029-03-01 00:00:00\n",
      "2030-03-19 00:00:00\n",
      "2031-03-09 00:00:00\n",
      "2032-02-26 00:00:00\n"
     ]
    },
    {
     "ename": "TypeError",
     "evalue": "'NoneType' object is not iterable",
     "output_type": "error",
     "traceback": [
      "\u001b[1;31m---------------------------------------------------------------------------\u001b[0m",
      "\u001b[1;31mTypeError\u001b[0m                                 Traceback (most recent call last)",
      "Input \u001b[1;32mIn [53]\u001b[0m, in \u001b[0;36m<cell line: 2>\u001b[1;34m()\u001b[0m\n\u001b[0;32m      1\u001b[0m lines \u001b[38;5;241m=\u001b[39m make_table(\u001b[38;5;241m5784\u001b[39m,\u001b[38;5;241m10\u001b[39m)\n\u001b[1;32m----> 2\u001b[0m \u001b[38;5;28;01mfor\u001b[39;00m line \u001b[38;5;129;01min\u001b[39;00m lines:\n\u001b[0;32m      3\u001b[0m     \u001b[38;5;28mprint\u001b[39m(line)\n",
      "\u001b[1;31mTypeError\u001b[0m: 'NoneType' object is not iterable"
     ]
    }
   ],
   "source": [
    "lines = make_table(5784,10)\n",
    "for line in lines:\n",
    "    print(line)"
   ]
  },
  {
   "cell_type": "code",
   "execution_count": null,
   "metadata": {},
   "outputs": [],
   "source": []
  }
 ],
 "metadata": {
  "kernelspec": {
   "display_name": "Python 3 (ipykernel)",
   "language": "python",
   "name": "python3"
  },
  "language_info": {
   "codemirror_mode": {
    "name": "ipython",
    "version": 3
   },
   "file_extension": ".py",
   "mimetype": "text/x-python",
   "name": "python",
   "nbconvert_exporter": "python",
   "pygments_lexer": "ipython3",
   "version": "3.9.12"
  }
 },
 "nbformat": 4,
 "nbformat_minor": 2
}
